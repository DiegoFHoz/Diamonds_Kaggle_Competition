{
 "cells": [
  {
   "cell_type": "code",
   "execution_count": 141,
   "metadata": {},
   "outputs": [],
   "source": [
    "import pandas as pd"
   ]
  },
  {
   "cell_type": "code",
   "execution_count": 142,
   "metadata": {},
   "outputs": [],
   "source": [
    "from sklearn.linear_model import LinearRegression\n",
    "from sklearn.pipeline import Pipeline\n",
    "from sklearn.compose import ColumnTransformer\n",
    "from sklearn.impute import SimpleImputer\n",
    "from sklearn.preprocessing import StandardScaler\n",
    "from sklearn.preprocessing import OneHotEncoder, OrdinalEncoder\n",
    "from sklearn.preprocessing import LabelEncoder\n",
    "import statsmodels.api as st\n",
    "from statsmodels.stats.outliers_influence import variance_inflation_factor\n",
    "from sklearn.metrics import r2_score, mean_squared_error\n",
    "from sklearn.preprocessing import StandardScaler\n",
    "from sklearn.model_selection import GridSearchCV"
   ]
  },
  {
   "cell_type": "code",
   "execution_count": 148,
   "metadata": {},
   "outputs": [],
   "source": [
    "diamonds = pd.read_csv('diamonds_train.csv')\n",
    "diamonds_predict = pd.read_csv('diamonds_predict.csv')"
   ]
  },
  {
   "cell_type": "code",
   "execution_count": 149,
   "metadata": {},
   "outputs": [],
   "source": [
    "import math\n",
    "\n",
    "carat_log= []\n",
    "for i in diamonds['carat']:\n",
    "    carat_log.append(math.log(i))\n",
    "diamonds['carat_log'] = carat_log\n",
    "\n",
    "carat_log= []\n",
    "for i in diamonds_predict['carat']:\n",
    "    carat_log.append(math.log(i))\n",
    "diamonds_predict['carat_log'] = carat_log"
   ]
  },
  {
   "cell_type": "code",
   "execution_count": 6,
   "metadata": {},
   "outputs": [
    {
     "name": "stderr",
     "output_type": "stream",
     "text": [
      "<ipython-input-6-feb683e44122>:4: SettingWithCopyWarning: \n",
      "A value is trying to be set on a copy of a slice from a DataFrame\n",
      "\n",
      "See the caveats in the documentation: https://pandas.pydata.org/pandas-docs/stable/user_guide/indexing.html#returning-a-view-versus-a-copy\n",
      "  diamonds_predict[col][i] = diamonds_predict[col].median()\n"
     ]
    }
   ],
   "source": [
    "def remove_column_zero(col):\n",
    "    for i in diamonds_predict[col].index:\n",
    "        if diamonds_predict[col][i]==0:\n",
    "            diamonds_predict[col][i] = diamonds_predict[col].median()\n",
    "remove_column_zero('x')\n",
    "remove_column_zero('y')\n",
    "remove_column_zero('z')\n"
   ]
  },
  {
   "cell_type": "code",
   "execution_count": 145,
   "metadata": {},
   "outputs": [],
   "source": [
    "diamonds = diamonds.loc[(diamonds['x']>0) | (diamonds['y']>0) | (diamonds['z']>0)]"
   ]
  },
  {
   "cell_type": "code",
   "execution_count": 146,
   "metadata": {},
   "outputs": [],
   "source": [
    "diamonds = diamonds.loc[~((diamonds['y'] > 20) | (diamonds['z'] > 20))]"
   ]
  },
  {
   "cell_type": "code",
   "execution_count": 150,
   "metadata": {},
   "outputs": [],
   "source": [
    "diamonds['ratio_length_width'] = diamonds['x']/diamonds['y']\n",
    "diamonds_predict['ratio_length_width'] = diamonds_predict['x']/diamonds_predict['y']"
   ]
  },
  {
   "cell_type": "code",
   "execution_count": 151,
   "metadata": {},
   "outputs": [],
   "source": [
    "shape = []\n",
    "for i in diamonds['table'].index:\n",
    "    if 54<diamonds['table'][i]<57 and 61<diamonds['depth'][i]<62.5:\n",
    "        shape.append('Round')\n",
    "    elif 52<diamonds['table'][i]<60 and 60<diamonds['depth'][i]<68:\n",
    "        shape.append('Oval')\n",
    "    elif 63<diamonds['table'][i]<69 and 69<diamonds['depth'][i]<76:\n",
    "        shape.append('Princess')\n",
    "    elif 58<diamonds['table'][i]<63 and 58<diamonds['depth'][i]<66:\n",
    "        shape.append('Cushion')\n",
    "    else:\n",
    "        shape.append('others')"
   ]
  },
  {
   "cell_type": "code",
   "execution_count": 152,
   "metadata": {},
   "outputs": [],
   "source": [
    "diamonds['shape'] = shape"
   ]
  },
  {
   "cell_type": "code",
   "execution_count": 153,
   "metadata": {},
   "outputs": [],
   "source": [
    "shape = []\n",
    "for i in diamonds_predict['table'].index:\n",
    "    if 54<diamonds_predict['table'][i]<57 and 61<diamonds_predict['depth'][i]<62.5:\n",
    "        shape.append('Round')\n",
    "    elif 52<diamonds_predict['table'][i]<60 and 60<diamonds_predict['depth'][i]<68:\n",
    "        shape.append('Oval')\n",
    "    elif 63<diamonds_predict['table'][i]<69 and 69<diamonds_predict['depth'][i]<76:\n",
    "        shape.append('Princess')\n",
    "    elif 58<diamonds_predict['table'][i]<63 and 58<diamonds_predict['depth'][i]<66:\n",
    "        shape.append('Cushion')\n",
    "    else:\n",
    "        shape.append('others')"
   ]
  },
  {
   "cell_type": "code",
   "execution_count": 154,
   "metadata": {},
   "outputs": [],
   "source": [
    "diamonds_predict['shape'] = shape"
   ]
  },
  {
   "cell_type": "code",
   "execution_count": 155,
   "metadata": {},
   "outputs": [],
   "source": [
    "diamonds['cut']=diamonds['cut'].map({'Fair':0,'Good':1,'Very Good':2,'Premium':3, 'Ideal':4})\n",
    "diamonds['color']=diamonds['color'].map({'J':0, 'I':1, 'H':2, 'G':3, 'F': 4, 'E': 5, 'D':6})\n",
    "diamonds['clarity']=diamonds['clarity'].map({'I1':0,'SI2':1,'SI1':2,'VS2':3,'VS1':4,'VVS2':5,'VVS1':6,'IF':7})\n",
    "\n",
    "#For this column I had to search the price of the shapes. From 4 (most expensive) to 0 (less expensive):\n",
    "diamonds['shape']=diamonds['shape'].map({'Round':4, 'Oval': 1, 'Princess': 3, 'Cushion':2, 'others':0})\n"
   ]
  },
  {
   "cell_type": "code",
   "execution_count": 156,
   "metadata": {},
   "outputs": [],
   "source": [
    "diamonds_predict['cut']=diamonds_predict['cut'].map({'Fair':0,'Good':1,'Very Good':2,'Premium':3, 'Ideal':4})\n",
    "diamonds_predict['color']=diamonds_predict['color'].map({'J':0, 'I':1, 'H':2, 'G':3, 'F': 4, 'E': 5, 'D':6})\n",
    "diamonds_predict['clarity']=diamonds_predict['clarity'].map({'I1':0,'SI2':1,'SI1':2,'VS2':3,'VS1':4,'VVS2':5,'VVS1':6,'IF':7})\n",
    "\n",
    "#For this column I had to search the price of the shapes. From 4 (most expensive) to 0 (less expensive):\n",
    "diamonds_predict['shape']=diamonds_predict['shape'].map({'Round':4, 'Oval': 1, 'Princess': 3, 'Cushion':2, 'others':0})"
   ]
  },
  {
   "cell_type": "code",
   "execution_count": 157,
   "metadata": {},
   "outputs": [],
   "source": [
    "scaler = StandardScaler()"
   ]
  },
  {
   "cell_type": "code",
   "execution_count": 158,
   "metadata": {},
   "outputs": [],
   "source": [
    "X = scaler.fit_transform(diamonds.drop(['price', 'depth', 'table', 'x', 'y', 'z', 'carat'], axis=1))\n",
    "y = diamonds['price'].values"
   ]
  },
  {
   "cell_type": "code",
   "execution_count": null,
   "metadata": {},
   "outputs": [],
   "source": []
  },
  {
   "cell_type": "code",
   "execution_count": 159,
   "metadata": {},
   "outputs": [],
   "source": [
    "from sklearn.model_selection import train_test_split\n",
    "x_train, x_test,y_train,y_test= train_test_split(X,y, test_size = 0.2, random_state = 42)\n"
   ]
  },
  {
   "cell_type": "code",
   "execution_count": 160,
   "metadata": {},
   "outputs": [],
   "source": [
    "x1_train, x1_test,y1_train,y1_test= train_test_split(x_train, y_train, test_size = 0.2, random_state = 42)"
   ]
  },
  {
   "cell_type": "code",
   "execution_count": 161,
   "metadata": {},
   "outputs": [
    {
     "data": {
      "text/plain": [
       "<lightgbm.basic.Dataset at 0x7ff98caf4130>"
      ]
     },
     "execution_count": 161,
     "metadata": {},
     "output_type": "execute_result"
    }
   ],
   "source": [
    "import lightgbm as lgb\n",
    "\n",
    "d_train = lgb.Dataset(x_train, label=y_train)\n",
    "d_valid = lgb.Dataset(x_test, label=y_test)\n",
    "\n",
    "d_train"
   ]
  },
  {
   "cell_type": "code",
   "execution_count": 162,
   "metadata": {},
   "outputs": [],
   "source": [
    "params = {\n",
    "    'boosting_type': 'gbdt',\n",
    "    'learning_rate':0.08,\n",
    "    'objective': 'regression',\n",
    "    'metric': 'rmse',\n",
    "    'max_depth':1,\n",
    "    'verbose':10,\n",
    "    'early_stopping_round': 20\n",
    "}"
   ]
  },
  {
   "cell_type": "code",
   "execution_count": 163,
   "metadata": {},
   "outputs": [],
   "source": [
    "n_estimators = 115\n",
    "watchlist=[d_valid]\n"
   ]
  },
  {
   "cell_type": "code",
   "execution_count": 164,
   "metadata": {},
   "outputs": [],
   "source": [
    "model = lgb.LGBMRegressor(boosting_type = 'gbdt',\n",
    "    learning_rate =0.08,\n",
    "    num_leaves = 64,                    \n",
    "    objective ='regression',\n",
    "    metric = 'rmse',\n",
    "    max_depth = 6)"
   ]
  },
  {
   "cell_type": "code",
   "execution_count": 165,
   "metadata": {},
   "outputs": [
    {
     "data": {
      "text/plain": [
       "array([2970, 3004,  838, ..., 2690, 3992, 6629])"
      ]
     },
     "execution_count": 165,
     "metadata": {},
     "output_type": "execute_result"
    }
   ],
   "source": [
    "y_test"
   ]
  },
  {
   "cell_type": "code",
   "execution_count": 166,
   "metadata": {},
   "outputs": [],
   "source": [
    "model.fit(x_train, y_train);"
   ]
  },
  {
   "cell_type": "code",
   "execution_count": 167,
   "metadata": {},
   "outputs": [],
   "source": [
    "y_test1 = model.predict(x_test)\n",
    "y_train1 = model.predict(x1_train)"
   ]
  },
  {
   "cell_type": "code",
   "execution_count": 168,
   "metadata": {},
   "outputs": [],
   "source": [
    "y_test2 = model.predict(x1_test)\n",
    "y_train2 = model.predict(x1_train)"
   ]
  },
  {
   "cell_type": "code",
   "execution_count": 169,
   "metadata": {},
   "outputs": [],
   "source": [
    "from sklearn.metrics import mean_squared_error"
   ]
  },
  {
   "cell_type": "code",
   "execution_count": null,
   "metadata": {},
   "outputs": [],
   "source": []
  },
  {
   "cell_type": "code",
   "execution_count": 170,
   "metadata": {},
   "outputs": [
    {
     "name": "stdout",
     "output_type": "stream",
     "text": [
      "test error: 519.9280163759129\n",
      "train error: 470.18481966005794\n"
     ]
    }
   ],
   "source": [
    "print(f\"test error: {mean_squared_error(y_pred=y_test1, y_true=y_test, squared=False)}\")\n",
    "print(f\"train error: {mean_squared_error(y_pred=y_train1, y_true=y1_train, squared=False)}\")"
   ]
  },
  {
   "cell_type": "code",
   "execution_count": 171,
   "metadata": {},
   "outputs": [
    {
     "name": "stdout",
     "output_type": "stream",
     "text": [
      "test error: 471.99616673347435\n",
      "train error: 470.18481966005794\n"
     ]
    }
   ],
   "source": [
    "print(f\"test error: {mean_squared_error(y_pred=y_test2, y_true=y1_test, squared=False)}\")\n",
    "print(f\"train error: {mean_squared_error(y_pred=y_train2, y_true=y1_train, squared=False)}\")"
   ]
  },
  {
   "cell_type": "code",
   "execution_count": null,
   "metadata": {},
   "outputs": [],
   "source": []
  },
  {
   "cell_type": "code",
   "execution_count": null,
   "metadata": {},
   "outputs": [],
   "source": []
  },
  {
   "cell_type": "code",
   "execution_count": 172,
   "metadata": {},
   "outputs": [],
   "source": [
    "from sklearn.model_selection import cross_val_score"
   ]
  },
  {
   "cell_type": "code",
   "execution_count": 173,
   "metadata": {},
   "outputs": [],
   "source": [
    "scores = cross_val_score(model, \n",
    "                         X, \n",
    "                         y, \n",
    "                         scoring='neg_root_mean_squared_error',\n",
    "                        cv=10)"
   ]
  },
  {
   "cell_type": "code",
   "execution_count": 174,
   "metadata": {},
   "outputs": [
    {
     "data": {
      "text/plain": [
       "516.8686961445053"
      ]
     },
     "execution_count": 174,
     "metadata": {},
     "output_type": "execute_result"
    }
   ],
   "source": [
    "import numpy as np\n",
    "np.mean(-scores)"
   ]
  },
  {
   "cell_type": "code",
   "execution_count": 175,
   "metadata": {},
   "outputs": [],
   "source": [
    "from sklearn.model_selection import RandomizedSearchCV"
   ]
  },
  {
   "cell_type": "code",
   "execution_count": 176,
   "metadata": {},
   "outputs": [
    {
     "name": "stdout",
     "output_type": "stream",
     "text": [
      "Fitting 5 folds for each of 32 candidates, totalling 160 fits\n"
     ]
    },
    {
     "name": "stderr",
     "output_type": "stream",
     "text": [
      "[Parallel(n_jobs=-1)]: Using backend LokyBackend with 8 concurrent workers.\n",
      "[Parallel(n_jobs=-1)]: Done   2 tasks      | elapsed:    2.2s\n",
      "[Parallel(n_jobs=-1)]: Done   9 tasks      | elapsed:    2.7s\n",
      "[Parallel(n_jobs=-1)]: Done  16 tasks      | elapsed:    3.1s\n",
      "[Parallel(n_jobs=-1)]: Done  25 tasks      | elapsed:    3.7s\n",
      "[Parallel(n_jobs=-1)]: Done  34 tasks      | elapsed:    4.0s\n",
      "[Parallel(n_jobs=-1)]: Done  45 tasks      | elapsed:    4.5s\n",
      "[Parallel(n_jobs=-1)]: Done  56 tasks      | elapsed:    5.1s\n",
      "[Parallel(n_jobs=-1)]: Done  69 tasks      | elapsed:    5.6s\n",
      "[Parallel(n_jobs=-1)]: Done  82 tasks      | elapsed:    6.0s\n",
      "[Parallel(n_jobs=-1)]: Done  97 tasks      | elapsed:    6.8s\n",
      "[Parallel(n_jobs=-1)]: Done 112 tasks      | elapsed:    7.4s\n",
      "[Parallel(n_jobs=-1)]: Done 129 tasks      | elapsed:    8.6s\n",
      "[Parallel(n_jobs=-1)]: Done 160 out of 160 | elapsed:   10.2s finished\n"
     ]
    },
    {
     "name": "stdout",
     "output_type": "stream",
     "text": [
      "[LightGBM] [Warning] Unknown parameter: bagging_frequency\n",
      "[LightGBM] [Warning] min_data_in_leaf is set=15, min_child_samples=20 will be ignored. Current value: min_data_in_leaf=15\n",
      "[LightGBM] [Warning] bagging_fraction is set=0.75, subsample=1.0 will be ignored. Current value: bagging_fraction=0.75\n",
      "[LightGBM] [Warning] feature_fraction is set=0.75, colsample_bytree=1.0 will be ignored. Current value: feature_fraction=0.75\n"
     ]
    },
    {
     "data": {
      "text/plain": [
       "RandomizedSearchCV(cv=5,\n",
       "                   estimator=LGBMRegressor(learning_rate=0.08, max_depth=6,\n",
       "                                           metric='rmse', num_leaves=64,\n",
       "                                           objective='regression'),\n",
       "                   n_iter=32, n_jobs=-1,\n",
       "                   param_distributions={'bagging_fraction': [0.7, 0.75],\n",
       "                                        'bagging_frequency': [0.7, 0.8],\n",
       "                                        'feature_fraction': [0.75, 0.8],\n",
       "                                        'learning_rate': [0.005, 0.1],\n",
       "                                        'max_bin': [128, 256],\n",
       "                                        'max_depth': [2, 4, 8, 16],\n",
       "                                        'min_data_in_leaf': [15, 20, 25],\n",
       "                                        'n_estimators': [114, 115, 116],\n",
       "                                        'num_leaves': [31, 40, 60]},\n",
       "                   scoring='neg_root_mean_squared_error', verbose=10)"
      ]
     },
     "execution_count": 176,
     "metadata": {},
     "output_type": "execute_result"
    }
   ],
   "source": [
    "param_grid = {\n",
    "    'n_estimators':[114, 115, 116], \n",
    "    'max_depth': [2, 4, 8,16],\n",
    "    'num_leaves': [31, 40, 60],\n",
    "    'learning_rate': [0.005, 0.1],\n",
    "    'bagging_fraction': [0.70, 0.75],\n",
    "    'max_bin': [128, 256],\n",
    "    'feature_fraction' : [0.75, 0.8],\n",
    "    'bagging_frequency' : [0.70, 0.80],\n",
    "    'min_data_in_leaf': [15, 20, 25]\n",
    "}\n",
    "\n",
    "grid_search = RandomizedSearchCV(model, \n",
    "                                 param_grid, \n",
    "                                 cv=5, \n",
    "                                 verbose=10, \n",
    "                                 scoring='neg_root_mean_squared_error', \n",
    "                                 n_jobs=-1,\n",
    "                                 n_iter=32)\n",
    "\n",
    "grid_search.fit(x_train, y_train)"
   ]
  },
  {
   "cell_type": "code",
   "execution_count": 177,
   "metadata": {},
   "outputs": [
    {
     "data": {
      "text/plain": [
       "LGBMRegressor(bagging_fraction=0.75, bagging_frequency=0.7,\n",
       "              feature_fraction=0.75, max_bin=256, max_depth=8, metric='rmse',\n",
       "              min_data_in_leaf=15, n_estimators=116, num_leaves=40,\n",
       "              objective='regression')"
      ]
     },
     "execution_count": 177,
     "metadata": {},
     "output_type": "execute_result"
    }
   ],
   "source": [
    "grid_search.best_estimator_"
   ]
  },
  {
   "cell_type": "code",
   "execution_count": 178,
   "metadata": {},
   "outputs": [],
   "source": [
    "X_test = scaler.transform(diamonds_predict.drop(['id', 'depth', 'table', 'x', 'y', 'z', 'carat'], axis=1).values)"
   ]
  },
  {
   "cell_type": "code",
   "execution_count": 179,
   "metadata": {},
   "outputs": [],
   "source": [
    "preds = grid_search.predict(X_test)"
   ]
  },
  {
   "cell_type": "code",
   "execution_count": 180,
   "metadata": {},
   "outputs": [
    {
     "data": {
      "text/plain": [
       "-527.1883797944788"
      ]
     },
     "execution_count": 180,
     "metadata": {},
     "output_type": "execute_result"
    }
   ],
   "source": [
    "grid_search.best_score_"
   ]
  },
  {
   "cell_type": "code",
   "execution_count": 181,
   "metadata": {},
   "outputs": [],
   "source": [
    "output = pd.DataFrame({'id': diamonds_predict['id'], 'price': preds})\n",
    "output.to_csv(\"lgbm_plus7.csv\", index=False)"
   ]
  },
  {
   "cell_type": "code",
   "execution_count": null,
   "metadata": {},
   "outputs": [],
   "source": []
  },
  {
   "cell_type": "code",
   "execution_count": 191,
   "metadata": {},
   "outputs": [],
   "source": [
    "param_grid = {\n",
    "    'n_estimators':[114, 115, 116], \n",
    "    'max_depth': [2, 4, 8,16],\n",
    "    'num_leaves': [31, 40, 60],\n",
    "    'learning_rate': [0.005, 0.1],\n",
    "    'bagging_fraction': [0.70, 0.75],\n",
    "    'max_bin': [128, 256],\n",
    "    'feature_fraction' : [0.75, 0.8],\n",
    "    'bagging_frequency' : [0.70, 0.80],\n",
    "    'min_data_in_leaf': [15, 20, 25]\n",
    "}"
   ]
  },
  {
   "cell_type": "code",
   "execution_count": 192,
   "metadata": {},
   "outputs": [],
   "source": [
    "grid_search = GridSearchCV(model, \n",
    "                           param_grid=param_grid,\n",
    "                           cv=10, \n",
    "                           verbose=10, \n",
    "                           scoring='neg_root_mean_squared_error',\n",
    "                          n_jobs=-1)"
   ]
  },
  {
   "cell_type": "code",
   "execution_count": 193,
   "metadata": {},
   "outputs": [
    {
     "name": "stdout",
     "output_type": "stream",
     "text": [
      "Fitting 10 folds for each of 3456 candidates, totalling 34560 fits\n"
     ]
    },
    {
     "name": "stderr",
     "output_type": "stream",
     "text": [
      "[Parallel(n_jobs=-1)]: Using backend LokyBackend with 8 concurrent workers.\n",
      "[Parallel(n_jobs=-1)]: Done   2 tasks      | elapsed:    2.5s\n",
      "[Parallel(n_jobs=-1)]: Done   9 tasks      | elapsed:    2.8s\n",
      "[Parallel(n_jobs=-1)]: Done  16 tasks      | elapsed:    2.8s\n",
      "[Parallel(n_jobs=-1)]: Done  25 tasks      | elapsed:    3.2s\n",
      "[Parallel(n_jobs=-1)]: Done  34 tasks      | elapsed:    3.4s\n",
      "[Parallel(n_jobs=-1)]: Done  45 tasks      | elapsed:    3.7s\n",
      "[Parallel(n_jobs=-1)]: Done  56 tasks      | elapsed:    3.9s\n",
      "[Parallel(n_jobs=-1)]: Done  69 tasks      | elapsed:    4.4s\n",
      "[Parallel(n_jobs=-1)]: Done  82 tasks      | elapsed:    4.8s\n",
      "[Parallel(n_jobs=-1)]: Done  97 tasks      | elapsed:    5.2s\n",
      "[Parallel(n_jobs=-1)]: Done 112 tasks      | elapsed:    5.5s\n",
      "[Parallel(n_jobs=-1)]: Done 129 tasks      | elapsed:    6.1s\n",
      "[Parallel(n_jobs=-1)]: Done 146 tasks      | elapsed:    6.6s\n",
      "[Parallel(n_jobs=-1)]: Done 165 tasks      | elapsed:    7.0s\n",
      "[Parallel(n_jobs=-1)]: Done 184 tasks      | elapsed:    7.6s\n",
      "[Parallel(n_jobs=-1)]: Done 205 tasks      | elapsed:    8.4s\n",
      "[Parallel(n_jobs=-1)]: Done 226 tasks      | elapsed:    9.1s\n",
      "[Parallel(n_jobs=-1)]: Done 249 tasks      | elapsed:    9.9s\n",
      "[Parallel(n_jobs=-1)]: Done 272 tasks      | elapsed:   10.6s\n",
      "[Parallel(n_jobs=-1)]: Done 297 tasks      | elapsed:   12.0s\n",
      "[Parallel(n_jobs=-1)]: Done 322 tasks      | elapsed:   13.3s\n",
      "[Parallel(n_jobs=-1)]: Done 349 tasks      | elapsed:   14.6s\n",
      "[Parallel(n_jobs=-1)]: Done 376 tasks      | elapsed:   16.0s\n",
      "[Parallel(n_jobs=-1)]: Done 405 tasks      | elapsed:   17.4s\n",
      "[Parallel(n_jobs=-1)]: Done 434 tasks      | elapsed:   18.9s\n",
      "[Parallel(n_jobs=-1)]: Done 465 tasks      | elapsed:   20.2s\n",
      "[Parallel(n_jobs=-1)]: Done 496 tasks      | elapsed:   21.8s\n",
      "[Parallel(n_jobs=-1)]: Done 529 tasks      | elapsed:   23.4s\n",
      "[Parallel(n_jobs=-1)]: Done 562 tasks      | elapsed:   25.6s\n",
      "[Parallel(n_jobs=-1)]: Done 597 tasks      | elapsed:   28.3s\n",
      "[Parallel(n_jobs=-1)]: Done 632 tasks      | elapsed:   31.3s\n",
      "[Parallel(n_jobs=-1)]: Done 669 tasks      | elapsed:   34.3s\n",
      "[Parallel(n_jobs=-1)]: Done 706 tasks      | elapsed:   37.1s\n",
      "[Parallel(n_jobs=-1)]: Done 745 tasks      | elapsed:   40.1s\n",
      "[Parallel(n_jobs=-1)]: Done 784 tasks      | elapsed:   43.0s\n",
      "[Parallel(n_jobs=-1)]: Done 825 tasks      | elapsed:   46.1s\n",
      "[Parallel(n_jobs=-1)]: Done 866 tasks      | elapsed:   48.9s\n",
      "[Parallel(n_jobs=-1)]: Done 909 tasks      | elapsed:   52.0s\n",
      "[Parallel(n_jobs=-1)]: Done 952 tasks      | elapsed:   55.0s\n",
      "[Parallel(n_jobs=-1)]: Done 997 tasks      | elapsed:   58.8s\n",
      "[Parallel(n_jobs=-1)]: Done 1042 tasks      | elapsed:  1.0min\n",
      "[Parallel(n_jobs=-1)]: Done 1089 tasks      | elapsed:  1.1min\n",
      "[Parallel(n_jobs=-1)]: Done 1136 tasks      | elapsed:  1.1min\n",
      "[Parallel(n_jobs=-1)]: Done 1185 tasks      | elapsed:  1.1min\n",
      "[Parallel(n_jobs=-1)]: Done 1234 tasks      | elapsed:  1.2min\n",
      "[Parallel(n_jobs=-1)]: Done 1285 tasks      | elapsed:  1.2min\n",
      "[Parallel(n_jobs=-1)]: Done 1336 tasks      | elapsed:  1.2min\n",
      "[Parallel(n_jobs=-1)]: Done 1389 tasks      | elapsed:  1.3min\n",
      "[Parallel(n_jobs=-1)]: Done 1442 tasks      | elapsed:  1.3min\n",
      "[Parallel(n_jobs=-1)]: Done 1497 tasks      | elapsed:  1.4min\n",
      "[Parallel(n_jobs=-1)]: Done 1552 tasks      | elapsed:  1.4min\n",
      "[Parallel(n_jobs=-1)]: Done 1609 tasks      | elapsed:  1.5min\n",
      "[Parallel(n_jobs=-1)]: Done 1666 tasks      | elapsed:  1.5min\n",
      "[Parallel(n_jobs=-1)]: Done 1725 tasks      | elapsed:  1.6min\n",
      "[Parallel(n_jobs=-1)]: Done 1784 tasks      | elapsed:  1.7min\n",
      "[Parallel(n_jobs=-1)]: Done 1845 tasks      | elapsed:  1.8min\n",
      "[Parallel(n_jobs=-1)]: Done 1906 tasks      | elapsed:  1.8min\n",
      "[Parallel(n_jobs=-1)]: Done 1969 tasks      | elapsed:  1.9min\n",
      "[Parallel(n_jobs=-1)]: Done 2032 tasks      | elapsed:  2.0min\n",
      "[Parallel(n_jobs=-1)]: Done 2097 tasks      | elapsed:  2.1min\n",
      "[Parallel(n_jobs=-1)]: Done 2162 tasks      | elapsed:  2.2min\n",
      "[Parallel(n_jobs=-1)]: Done 2229 tasks      | elapsed:  2.2min\n",
      "[Parallel(n_jobs=-1)]: Done 2296 tasks      | elapsed:  2.2min\n",
      "[Parallel(n_jobs=-1)]: Done 2365 tasks      | elapsed:  2.3min\n",
      "[Parallel(n_jobs=-1)]: Done 2434 tasks      | elapsed:  2.3min\n",
      "[Parallel(n_jobs=-1)]: Done 2505 tasks      | elapsed:  2.4min\n",
      "[Parallel(n_jobs=-1)]: Done 2576 tasks      | elapsed:  2.4min\n",
      "[Parallel(n_jobs=-1)]: Done 2649 tasks      | elapsed:  2.5min\n",
      "[Parallel(n_jobs=-1)]: Done 2722 tasks      | elapsed:  2.5min\n",
      "[Parallel(n_jobs=-1)]: Done 2797 tasks      | elapsed:  2.6min\n",
      "[Parallel(n_jobs=-1)]: Done 2872 tasks      | elapsed:  2.7min\n",
      "[Parallel(n_jobs=-1)]: Done 2949 tasks      | elapsed:  2.8min\n",
      "[Parallel(n_jobs=-1)]: Done 3026 tasks      | elapsed:  2.9min\n",
      "[Parallel(n_jobs=-1)]: Done 3105 tasks      | elapsed:  3.0min\n",
      "[Parallel(n_jobs=-1)]: Done 3184 tasks      | elapsed:  3.0min\n",
      "[Parallel(n_jobs=-1)]: Done 3265 tasks      | elapsed:  3.1min\n",
      "[Parallel(n_jobs=-1)]: Done 3346 tasks      | elapsed:  3.2min\n",
      "[Parallel(n_jobs=-1)]: Done 3429 tasks      | elapsed:  3.2min\n",
      "[Parallel(n_jobs=-1)]: Done 3512 tasks      | elapsed:  3.3min\n",
      "[Parallel(n_jobs=-1)]: Done 3597 tasks      | elapsed:  3.3min\n",
      "[Parallel(n_jobs=-1)]: Done 3682 tasks      | elapsed:  3.4min\n",
      "[Parallel(n_jobs=-1)]: Done 3769 tasks      | elapsed:  3.5min\n",
      "[Parallel(n_jobs=-1)]: Done 3856 tasks      | elapsed:  3.6min\n",
      "[Parallel(n_jobs=-1)]: Done 3945 tasks      | elapsed:  3.7min\n",
      "[Parallel(n_jobs=-1)]: Done 4034 tasks      | elapsed:  3.8min\n",
      "[Parallel(n_jobs=-1)]: Done 4125 tasks      | elapsed:  3.9min\n",
      "[Parallel(n_jobs=-1)]: Done 4216 tasks      | elapsed:  4.0min\n",
      "[Parallel(n_jobs=-1)]: Done 4309 tasks      | elapsed:  4.1min\n",
      "[Parallel(n_jobs=-1)]: Done 4402 tasks      | elapsed:  4.2min\n",
      "[Parallel(n_jobs=-1)]: Done 4497 tasks      | elapsed:  4.2min\n",
      "[Parallel(n_jobs=-1)]: Done 4592 tasks      | elapsed:  4.3min\n",
      "[Parallel(n_jobs=-1)]: Done 4689 tasks      | elapsed:  4.4min\n",
      "[Parallel(n_jobs=-1)]: Done 4786 tasks      | elapsed:  4.4min\n",
      "[Parallel(n_jobs=-1)]: Done 4885 tasks      | elapsed:  4.5min\n",
      "[Parallel(n_jobs=-1)]: Done 4984 tasks      | elapsed:  4.7min\n",
      "[Parallel(n_jobs=-1)]: Done 5085 tasks      | elapsed:  4.8min\n",
      "[Parallel(n_jobs=-1)]: Done 5186 tasks      | elapsed:  4.9min\n",
      "[Parallel(n_jobs=-1)]: Done 5289 tasks      | elapsed:  5.0min\n",
      "[Parallel(n_jobs=-1)]: Done 5392 tasks      | elapsed:  5.1min\n",
      "[Parallel(n_jobs=-1)]: Done 5497 tasks      | elapsed:  5.2min\n",
      "[Parallel(n_jobs=-1)]: Done 5602 tasks      | elapsed:  5.3min\n",
      "[Parallel(n_jobs=-1)]: Done 5709 tasks      | elapsed:  5.3min\n",
      "[Parallel(n_jobs=-1)]: Done 5816 tasks      | elapsed:  5.4min\n",
      "[Parallel(n_jobs=-1)]: Done 5925 tasks      | elapsed:  5.5min\n",
      "[Parallel(n_jobs=-1)]: Done 6034 tasks      | elapsed:  5.7min\n",
      "[Parallel(n_jobs=-1)]: Done 6145 tasks      | elapsed:  5.8min\n",
      "[Parallel(n_jobs=-1)]: Done 6256 tasks      | elapsed:  6.0min\n",
      "[Parallel(n_jobs=-1)]: Done 6369 tasks      | elapsed:  6.1min\n",
      "[Parallel(n_jobs=-1)]: Done 6482 tasks      | elapsed:  6.2min\n",
      "[Parallel(n_jobs=-1)]: Done 6597 tasks      | elapsed:  6.3min\n",
      "[Parallel(n_jobs=-1)]: Done 6712 tasks      | elapsed:  6.4min\n",
      "[Parallel(n_jobs=-1)]: Done 6829 tasks      | elapsed:  6.4min\n",
      "[Parallel(n_jobs=-1)]: Done 6946 tasks      | elapsed:  6.5min\n",
      "[Parallel(n_jobs=-1)]: Done 7065 tasks      | elapsed:  6.6min\n",
      "[Parallel(n_jobs=-1)]: Done 7184 tasks      | elapsed:  6.8min\n",
      "[Parallel(n_jobs=-1)]: Done 7305 tasks      | elapsed:  6.9min\n",
      "[Parallel(n_jobs=-1)]: Done 7426 tasks      | elapsed:  7.1min\n",
      "[Parallel(n_jobs=-1)]: Done 7549 tasks      | elapsed:  7.2min\n",
      "[Parallel(n_jobs=-1)]: Done 7672 tasks      | elapsed:  7.3min\n",
      "[Parallel(n_jobs=-1)]: Done 7797 tasks      | elapsed:  7.4min\n",
      "[Parallel(n_jobs=-1)]: Done 7922 tasks      | elapsed:  7.4min\n",
      "[Parallel(n_jobs=-1)]: Done 8049 tasks      | elapsed: 10.8min\n",
      "[Parallel(n_jobs=-1)]: Done 8176 tasks      | elapsed: 10.9min\n",
      "[Parallel(n_jobs=-1)]: Done 8305 tasks      | elapsed: 11.1min\n",
      "[Parallel(n_jobs=-1)]: Done 8434 tasks      | elapsed: 11.2min\n",
      "[Parallel(n_jobs=-1)]: Done 8565 tasks      | elapsed: 11.3min\n",
      "[Parallel(n_jobs=-1)]: Done 8696 tasks      | elapsed: 11.5min\n",
      "[Parallel(n_jobs=-1)]: Done 8829 tasks      | elapsed: 11.5min\n",
      "[Parallel(n_jobs=-1)]: Done 8962 tasks      | elapsed: 11.6min\n",
      "[Parallel(n_jobs=-1)]: Done 9097 tasks      | elapsed: 11.8min\n"
     ]
    },
    {
     "name": "stderr",
     "output_type": "stream",
     "text": [
      "[Parallel(n_jobs=-1)]: Done 9232 tasks      | elapsed: 12.0min\n",
      "[Parallel(n_jobs=-1)]: Done 9369 tasks      | elapsed: 12.2min\n",
      "[Parallel(n_jobs=-1)]: Done 9506 tasks      | elapsed: 12.4min\n",
      "[Parallel(n_jobs=-1)]: Done 9645 tasks      | elapsed: 12.6min\n",
      "[Parallel(n_jobs=-1)]: Done 9784 tasks      | elapsed: 12.8min\n",
      "[Parallel(n_jobs=-1)]: Done 9925 tasks      | elapsed: 12.9min\n",
      "[Parallel(n_jobs=-1)]: Done 10066 tasks      | elapsed: 13.0min\n",
      "[Parallel(n_jobs=-1)]: Done 10209 tasks      | elapsed: 13.2min\n",
      "[Parallel(n_jobs=-1)]: Done 10352 tasks      | elapsed: 13.4min\n",
      "[Parallel(n_jobs=-1)]: Done 10497 tasks      | elapsed: 13.6min\n",
      "[Parallel(n_jobs=-1)]: Done 10642 tasks      | elapsed: 13.8min\n",
      "[Parallel(n_jobs=-1)]: Done 10789 tasks      | elapsed: 14.1min\n",
      "[Parallel(n_jobs=-1)]: Done 10936 tasks      | elapsed: 14.2min\n",
      "[Parallel(n_jobs=-1)]: Done 11085 tasks      | elapsed: 14.3min\n",
      "[Parallel(n_jobs=-1)]: Done 11234 tasks      | elapsed: 14.5min\n",
      "[Parallel(n_jobs=-1)]: Done 11385 tasks      | elapsed: 14.6min\n",
      "[Parallel(n_jobs=-1)]: Done 11536 tasks      | elapsed: 14.8min\n",
      "[Parallel(n_jobs=-1)]: Done 11689 tasks      | elapsed: 15.0min\n",
      "[Parallel(n_jobs=-1)]: Done 11842 tasks      | elapsed: 15.3min\n",
      "[Parallel(n_jobs=-1)]: Done 11997 tasks      | elapsed: 15.4min\n",
      "[Parallel(n_jobs=-1)]: Done 12152 tasks      | elapsed: 15.5min\n",
      "[Parallel(n_jobs=-1)]: Done 12309 tasks      | elapsed: 15.7min\n",
      "[Parallel(n_jobs=-1)]: Done 12466 tasks      | elapsed: 15.9min\n",
      "[Parallel(n_jobs=-1)]: Done 12625 tasks      | elapsed: 16.1min\n",
      "[Parallel(n_jobs=-1)]: Done 12784 tasks      | elapsed: 16.4min\n",
      "[Parallel(n_jobs=-1)]: Done 12945 tasks      | elapsed: 16.7min\n",
      "[Parallel(n_jobs=-1)]: Done 13106 tasks      | elapsed: 16.8min\n",
      "[Parallel(n_jobs=-1)]: Done 13269 tasks      | elapsed: 16.9min\n",
      "[Parallel(n_jobs=-1)]: Done 13432 tasks      | elapsed: 17.1min\n",
      "[Parallel(n_jobs=-1)]: Done 13597 tasks      | elapsed: 17.3min\n",
      "[Parallel(n_jobs=-1)]: Done 13762 tasks      | elapsed: 17.5min\n",
      "[Parallel(n_jobs=-1)]: Done 13929 tasks      | elapsed: 17.8min\n",
      "[Parallel(n_jobs=-1)]: Done 14096 tasks      | elapsed: 18.0min\n",
      "[Parallel(n_jobs=-1)]: Done 14265 tasks      | elapsed: 18.1min\n",
      "[Parallel(n_jobs=-1)]: Done 14434 tasks      | elapsed: 18.3min\n",
      "[Parallel(n_jobs=-1)]: Done 14605 tasks      | elapsed: 18.5min\n",
      "[Parallel(n_jobs=-1)]: Done 14776 tasks      | elapsed: 18.7min\n",
      "[Parallel(n_jobs=-1)]: Done 14949 tasks      | elapsed: 19.0min\n",
      "[Parallel(n_jobs=-1)]: Done 15122 tasks      | elapsed: 19.3min\n",
      "[Parallel(n_jobs=-1)]: Done 15297 tasks      | elapsed: 25.3min\n",
      "[Parallel(n_jobs=-1)]: Done 15472 tasks      | elapsed: 25.4min\n",
      "[Parallel(n_jobs=-1)]: Done 15649 tasks      | elapsed: 25.6min\n",
      "[Parallel(n_jobs=-1)]: Done 15826 tasks      | elapsed: 25.8min\n",
      "[Parallel(n_jobs=-1)]: Done 16005 tasks      | elapsed: 26.0min\n",
      "[Parallel(n_jobs=-1)]: Done 16184 tasks      | elapsed: 26.1min\n",
      "[Parallel(n_jobs=-1)]: Done 16365 tasks      | elapsed: 26.2min\n",
      "[Parallel(n_jobs=-1)]: Done 16546 tasks      | elapsed: 26.4min\n",
      "[Parallel(n_jobs=-1)]: Done 16729 tasks      | elapsed: 26.5min\n",
      "[Parallel(n_jobs=-1)]: Done 16912 tasks      | elapsed: 26.7min\n",
      "[Parallel(n_jobs=-1)]: Done 17097 tasks      | elapsed: 26.9min\n",
      "[Parallel(n_jobs=-1)]: Done 17282 tasks      | elapsed: 27.1min\n",
      "[Parallel(n_jobs=-1)]: Done 17469 tasks      | elapsed: 27.3min\n",
      "[Parallel(n_jobs=-1)]: Done 17656 tasks      | elapsed: 27.4min\n",
      "[Parallel(n_jobs=-1)]: Done 17845 tasks      | elapsed: 27.6min\n",
      "[Parallel(n_jobs=-1)]: Done 18034 tasks      | elapsed: 27.8min\n",
      "[Parallel(n_jobs=-1)]: Done 18225 tasks      | elapsed: 28.1min\n",
      "[Parallel(n_jobs=-1)]: Done 18416 tasks      | elapsed: 34.7min\n",
      "[Parallel(n_jobs=-1)]: Done 18609 tasks      | elapsed: 34.8min\n",
      "[Parallel(n_jobs=-1)]: Done 18802 tasks      | elapsed: 35.0min\n",
      "[Parallel(n_jobs=-1)]: Done 18997 tasks      | elapsed: 35.2min\n",
      "[Parallel(n_jobs=-1)]: Done 19192 tasks      | elapsed: 35.4min\n",
      "[Parallel(n_jobs=-1)]: Done 19389 tasks      | elapsed: 35.6min\n",
      "[Parallel(n_jobs=-1)]: Done 19586 tasks      | elapsed: 35.8min\n",
      "[Parallel(n_jobs=-1)]: Done 19785 tasks      | elapsed: 35.9min\n",
      "[Parallel(n_jobs=-1)]: Done 19984 tasks      | elapsed: 36.1min\n",
      "[Parallel(n_jobs=-1)]: Done 20185 tasks      | elapsed: 36.3min\n",
      "[Parallel(n_jobs=-1)]: Done 20386 tasks      | elapsed: 36.5min\n",
      "[Parallel(n_jobs=-1)]: Done 20589 tasks      | elapsed: 36.7min\n",
      "[Parallel(n_jobs=-1)]: Done 20792 tasks      | elapsed: 36.8min\n",
      "[Parallel(n_jobs=-1)]: Done 20997 tasks      | elapsed: 37.0min\n",
      "[Parallel(n_jobs=-1)]: Done 21202 tasks      | elapsed: 37.2min\n",
      "[Parallel(n_jobs=-1)]: Done 21409 tasks      | elapsed: 37.5min\n",
      "[Parallel(n_jobs=-1)]: Done 21616 tasks      | elapsed: 54.6min\n",
      "[Parallel(n_jobs=-1)]: Done 21825 tasks      | elapsed: 54.7min\n",
      "[Parallel(n_jobs=-1)]: Done 22034 tasks      | elapsed: 54.8min\n",
      "[Parallel(n_jobs=-1)]: Done 22245 tasks      | elapsed: 55.1min\n",
      "[Parallel(n_jobs=-1)]: Done 22456 tasks      | elapsed: 55.3min\n",
      "[Parallel(n_jobs=-1)]: Done 22669 tasks      | elapsed: 55.5min\n",
      "[Parallel(n_jobs=-1)]: Done 22882 tasks      | elapsed: 55.7min\n",
      "[Parallel(n_jobs=-1)]: Done 23097 tasks      | elapsed: 55.9min\n",
      "[Parallel(n_jobs=-1)]: Done 23312 tasks      | elapsed: 56.1min\n",
      "[Parallel(n_jobs=-1)]: Done 23529 tasks      | elapsed: 56.4min\n",
      "[Parallel(n_jobs=-1)]: Done 23746 tasks      | elapsed: 56.7min\n",
      "[Parallel(n_jobs=-1)]: Done 23965 tasks      | elapsed: 56.8min\n",
      "[Parallel(n_jobs=-1)]: Done 24184 tasks      | elapsed: 57.0min\n",
      "[Parallel(n_jobs=-1)]: Done 24405 tasks      | elapsed: 57.2min\n",
      "[Parallel(n_jobs=-1)]: Done 24626 tasks      | elapsed: 57.5min\n",
      "[Parallel(n_jobs=-1)]: Done 24849 tasks      | elapsed: 57.7min\n",
      "[Parallel(n_jobs=-1)]: Done 25072 tasks      | elapsed: 57.8min\n",
      "[Parallel(n_jobs=-1)]: Done 25297 tasks      | elapsed: 58.0min\n",
      "[Parallel(n_jobs=-1)]: Done 25522 tasks      | elapsed: 58.3min\n",
      "[Parallel(n_jobs=-1)]: Done 25749 tasks      | elapsed: 58.6min\n",
      "[Parallel(n_jobs=-1)]: Done 25976 tasks      | elapsed: 58.8min\n",
      "[Parallel(n_jobs=-1)]: Done 26205 tasks      | elapsed: 59.0min\n",
      "[Parallel(n_jobs=-1)]: Done 26434 tasks      | elapsed: 59.2min\n",
      "[Parallel(n_jobs=-1)]: Done 26665 tasks      | elapsed: 59.4min\n",
      "[Parallel(n_jobs=-1)]: Done 26896 tasks      | elapsed: 59.7min\n",
      "[Parallel(n_jobs=-1)]: Done 27129 tasks      | elapsed: 59.9min\n",
      "[Parallel(n_jobs=-1)]: Done 27362 tasks      | elapsed: 60.1min\n",
      "[Parallel(n_jobs=-1)]: Done 27597 tasks      | elapsed: 60.3min\n",
      "[Parallel(n_jobs=-1)]: Done 27832 tasks      | elapsed: 60.7min\n",
      "[Parallel(n_jobs=-1)]: Done 28069 tasks      | elapsed: 61.0min\n",
      "[Parallel(n_jobs=-1)]: Done 28306 tasks      | elapsed: 61.1min\n",
      "[Parallel(n_jobs=-1)]: Done 28545 tasks      | elapsed: 61.3min\n",
      "[Parallel(n_jobs=-1)]: Done 28784 tasks      | elapsed: 61.6min\n",
      "[Parallel(n_jobs=-1)]: Done 29025 tasks      | elapsed: 61.9min\n",
      "[Parallel(n_jobs=-1)]: Done 29266 tasks      | elapsed: 62.2min\n",
      "[Parallel(n_jobs=-1)]: Done 29509 tasks      | elapsed: 62.3min\n",
      "[Parallel(n_jobs=-1)]: Done 29752 tasks      | elapsed: 62.6min\n",
      "[Parallel(n_jobs=-1)]: Done 29997 tasks      | elapsed: 62.9min\n",
      "[Parallel(n_jobs=-1)]: Done 30242 tasks      | elapsed: 63.2min\n",
      "[Parallel(n_jobs=-1)]: Done 30489 tasks      | elapsed: 63.3min\n",
      "[Parallel(n_jobs=-1)]: Done 30736 tasks      | elapsed: 63.6min\n",
      "[Parallel(n_jobs=-1)]: Done 30985 tasks      | elapsed: 63.9min\n",
      "[Parallel(n_jobs=-1)]: Done 31234 tasks      | elapsed: 64.2min\n",
      "[Parallel(n_jobs=-1)]: Done 31485 tasks      | elapsed: 64.4min\n",
      "[Parallel(n_jobs=-1)]: Done 31736 tasks      | elapsed: 64.6min\n",
      "[Parallel(n_jobs=-1)]: Done 31989 tasks      | elapsed: 64.9min\n",
      "[Parallel(n_jobs=-1)]: Done 32242 tasks      | elapsed: 65.3min\n",
      "[Parallel(n_jobs=-1)]: Done 32497 tasks      | elapsed: 65.7min\n",
      "[Parallel(n_jobs=-1)]: Done 32752 tasks      | elapsed: 65.9min\n",
      "[Parallel(n_jobs=-1)]: Done 33009 tasks      | elapsed: 66.2min\n",
      "[Parallel(n_jobs=-1)]: Done 33266 tasks      | elapsed: 66.5min\n",
      "[Parallel(n_jobs=-1)]: Done 33525 tasks      | elapsed: 67.0min\n",
      "[Parallel(n_jobs=-1)]: Done 33784 tasks      | elapsed: 67.2min\n",
      "[Parallel(n_jobs=-1)]: Done 34045 tasks      | elapsed: 67.5min\n",
      "[Parallel(n_jobs=-1)]: Done 34306 tasks      | elapsed: 68.0min\n",
      "[Parallel(n_jobs=-1)]: Done 34560 out of 34560 | elapsed: 68.4min finished\n"
     ]
    },
    {
     "name": "stdout",
     "output_type": "stream",
     "text": [
      "[LightGBM] [Warning] Unknown parameter: bagging_frequency\n",
      "[LightGBM] [Warning] min_data_in_leaf is set=25, min_child_samples=20 will be ignored. Current value: min_data_in_leaf=25\n",
      "[LightGBM] [Warning] bagging_fraction is set=0.7, subsample=1.0 will be ignored. Current value: bagging_fraction=0.7\n",
      "[LightGBM] [Warning] feature_fraction is set=0.75, colsample_bytree=1.0 will be ignored. Current value: feature_fraction=0.75\n"
     ]
    },
    {
     "data": {
      "text/plain": [
       "GridSearchCV(cv=10,\n",
       "             estimator=LGBMRegressor(learning_rate=0.08, max_depth=6,\n",
       "                                     metric='rmse', num_leaves=64,\n",
       "                                     objective='regression'),\n",
       "             n_jobs=-1,\n",
       "             param_grid={'bagging_fraction': [0.7, 0.75],\n",
       "                         'bagging_frequency': [0.7, 0.8],\n",
       "                         'feature_fraction': [0.75, 0.8],\n",
       "                         'learning_rate': [0.005, 0.1], 'max_bin': [128, 256],\n",
       "                         'max_depth': [2, 4, 8, 16],\n",
       "                         'min_data_in_leaf': [15, 20, 25],\n",
       "                         'n_estimators': [114, 115, 116],\n",
       "                         'num_leaves': [31, 40, 60]},\n",
       "             scoring='neg_root_mean_squared_error', verbose=10)"
      ]
     },
     "execution_count": 193,
     "metadata": {},
     "output_type": "execute_result"
    }
   ],
   "source": [
    "grid_search.fit(X, y)"
   ]
  },
  {
   "cell_type": "code",
   "execution_count": 194,
   "metadata": {},
   "outputs": [
    {
     "data": {
      "text/plain": [
       "LGBMRegressor(bagging_fraction=0.7, bagging_frequency=0.7,\n",
       "              feature_fraction=0.75, max_bin=256, max_depth=8, metric='rmse',\n",
       "              min_data_in_leaf=25, n_estimators=116, num_leaves=60,\n",
       "              objective='regression')"
      ]
     },
     "execution_count": 194,
     "metadata": {},
     "output_type": "execute_result"
    }
   ],
   "source": [
    "grid_search.best_estimator_"
   ]
  },
  {
   "cell_type": "code",
   "execution_count": 195,
   "metadata": {},
   "outputs": [
    {
     "name": "stdout",
     "output_type": "stream",
     "text": [
      "[LightGBM] [Debug] Dataset::GetMultiBinFromAllFeatures: sparse rate 0.000000\n",
      "[LightGBM] [Debug] init for col-wise cost 0.000052 seconds, init for row-wise cost 0.001668 seconds\n",
      "[LightGBM] [Debug] col-wise cost 0.000355 seconds, row-wise cost 0.000233 seconds\n",
      "[LightGBM] [Warning] Auto-choosing row-wise multi-threading, the overhead of testing was 0.000640 seconds.\n",
      "You can set `force_row_wise=true` to remove the overhead.\n",
      "And if memory is not enough, you can set `force_col_wise=true`.\n",
      "[LightGBM] [Debug] Using Dense Multi-Val Bin\n",
      "[LightGBM] [Info] Total Bins 524\n",
      "[LightGBM] [Info] Number of data points in the train set: 32364, number of used features: 6\n",
      "[LightGBM] [Info] Start training from score 3927.895532\n",
      "[LightGBM] [Debug] Trained a tree with leaves = 2 and max_depth = 1\n",
      "[1]\tvalid_0's rmse: 3963.17\n",
      "Training until validation scores don't improve for 20 rounds\n",
      "[LightGBM] [Debug] Trained a tree with leaves = 2 and max_depth = 1\n",
      "[2]\tvalid_0's rmse: 3893.9\n",
      "[LightGBM] [Debug] Trained a tree with leaves = 2 and max_depth = 1\n",
      "[3]\tvalid_0's rmse: 3825.74\n",
      "[LightGBM] [Debug] Trained a tree with leaves = 2 and max_depth = 1\n",
      "[4]\tvalid_0's rmse: 3760.52\n",
      "[LightGBM] [Debug] Trained a tree with leaves = 2 and max_depth = 1\n",
      "[5]\tvalid_0's rmse: 3695.76\n",
      "[LightGBM] [Debug] Trained a tree with leaves = 2 and max_depth = 1\n",
      "[6]\tvalid_0's rmse: 3633.78\n",
      "[LightGBM] [Debug] Trained a tree with leaves = 2 and max_depth = 1\n",
      "[7]\tvalid_0's rmse: 3573.56\n",
      "[LightGBM] [Debug] Trained a tree with leaves = 2 and max_depth = 1\n",
      "[8]\tvalid_0's rmse: 3514.25\n",
      "[LightGBM] [Debug] Trained a tree with leaves = 2 and max_depth = 1\n",
      "[9]\tvalid_0's rmse: 3457.4\n",
      "[LightGBM] [Debug] Trained a tree with leaves = 2 and max_depth = 1\n",
      "[10]\tvalid_0's rmse: 3401.41\n",
      "[LightGBM] [Debug] Trained a tree with leaves = 2 and max_depth = 1\n",
      "[11]\tvalid_0's rmse: 3347.79\n",
      "[LightGBM] [Debug] Trained a tree with leaves = 2 and max_depth = 1\n",
      "[12]\tvalid_0's rmse: 3295.22\n",
      "[LightGBM] [Debug] Trained a tree with leaves = 2 and max_depth = 1\n",
      "[13]\tvalid_0's rmse: 3244.66\n",
      "[LightGBM] [Debug] Trained a tree with leaves = 2 and max_depth = 1\n",
      "[14]\tvalid_0's rmse: 3195.09\n",
      "[LightGBM] [Debug] Trained a tree with leaves = 2 and max_depth = 1\n",
      "[15]\tvalid_0's rmse: 3146.96\n",
      "[LightGBM] [Debug] Trained a tree with leaves = 2 and max_depth = 1\n",
      "[16]\tvalid_0's rmse: 3100.05\n",
      "[LightGBM] [Debug] Trained a tree with leaves = 2 and max_depth = 1\n",
      "[17]\tvalid_0's rmse: 3054.59\n",
      "[LightGBM] [Debug] Trained a tree with leaves = 2 and max_depth = 1\n",
      "[18]\tvalid_0's rmse: 3010.02\n",
      "[LightGBM] [Debug] Trained a tree with leaves = 2 and max_depth = 1\n",
      "[19]\tvalid_0's rmse: 2966.88\n",
      "[LightGBM] [Debug] Trained a tree with leaves = 2 and max_depth = 1\n",
      "[20]\tvalid_0's rmse: 2924.84\n",
      "[LightGBM] [Debug] Trained a tree with leaves = 2 and max_depth = 1\n",
      "[21]\tvalid_0's rmse: 2884.23\n",
      "[LightGBM] [Debug] Trained a tree with leaves = 2 and max_depth = 1\n",
      "[22]\tvalid_0's rmse: 2844.58\n",
      "[LightGBM] [Debug] Trained a tree with leaves = 2 and max_depth = 1\n",
      "[23]\tvalid_0's rmse: 2805.9\n",
      "[LightGBM] [Debug] Trained a tree with leaves = 2 and max_depth = 1\n",
      "[24]\tvalid_0's rmse: 2768.48\n",
      "[LightGBM] [Debug] Trained a tree with leaves = 2 and max_depth = 1\n",
      "[25]\tvalid_0's rmse: 2732.19\n",
      "[LightGBM] [Debug] Trained a tree with leaves = 2 and max_depth = 1\n",
      "[26]\tvalid_0's rmse: 2696.94\n",
      "[LightGBM] [Debug] Trained a tree with leaves = 2 and max_depth = 1\n",
      "[27]\tvalid_0's rmse: 2662.76\n",
      "[LightGBM] [Debug] Trained a tree with leaves = 2 and max_depth = 1\n",
      "[28]\tvalid_0's rmse: 2629.16\n",
      "[LightGBM] [Debug] Trained a tree with leaves = 2 and max_depth = 1\n",
      "[29]\tvalid_0's rmse: 2597.04\n",
      "[LightGBM] [Debug] Trained a tree with leaves = 2 and max_depth = 1\n",
      "[30]\tvalid_0's rmse: 2565.62\n",
      "[LightGBM] [Debug] Trained a tree with leaves = 2 and max_depth = 1\n",
      "[31]\tvalid_0's rmse: 2535.19\n",
      "[LightGBM] [Debug] Trained a tree with leaves = 2 and max_depth = 1\n",
      "[32]\tvalid_0's rmse: 2505.63\n",
      "[LightGBM] [Debug] Trained a tree with leaves = 2 and max_depth = 1\n",
      "[33]\tvalid_0's rmse: 2477.02\n",
      "[LightGBM] [Debug] Trained a tree with leaves = 2 and max_depth = 1\n",
      "[34]\tvalid_0's rmse: 2449.26\n",
      "[LightGBM] [Debug] Trained a tree with leaves = 2 and max_depth = 1\n",
      "[35]\tvalid_0's rmse: 2422.42\n",
      "[LightGBM] [Debug] Trained a tree with leaves = 2 and max_depth = 1\n",
      "[36]\tvalid_0's rmse: 2396.17\n",
      "[LightGBM] [Debug] Trained a tree with leaves = 2 and max_depth = 1\n",
      "[37]\tvalid_0's rmse: 2370.98\n",
      "[LightGBM] [Debug] Trained a tree with leaves = 2 and max_depth = 1\n",
      "[38]\tvalid_0's rmse: 2345.47\n",
      "[LightGBM] [Debug] Trained a tree with leaves = 2 and max_depth = 1\n",
      "[39]\tvalid_0's rmse: 2321.64\n",
      "[LightGBM] [Debug] Trained a tree with leaves = 2 and max_depth = 1\n",
      "[40]\tvalid_0's rmse: 2297.53\n",
      "[LightGBM] [Debug] Trained a tree with leaves = 2 and max_depth = 1\n",
      "[41]\tvalid_0's rmse: 2274.58\n",
      "[LightGBM] [Debug] Trained a tree with leaves = 2 and max_depth = 1\n",
      "[42]\tvalid_0's rmse: 2251.77\n",
      "[LightGBM] [Debug] Trained a tree with leaves = 2 and max_depth = 1\n",
      "[43]\tvalid_0's rmse: 2229.94\n",
      "[LightGBM] [Debug] Trained a tree with leaves = 2 and max_depth = 1\n",
      "[44]\tvalid_0's rmse: 2208.17\n",
      "[LightGBM] [Debug] Trained a tree with leaves = 2 and max_depth = 1\n",
      "[45]\tvalid_0's rmse: 2187.6\n",
      "[LightGBM] [Debug] Trained a tree with leaves = 2 and max_depth = 1\n",
      "[46]\tvalid_0's rmse: 2166.84\n",
      "[LightGBM] [Debug] Trained a tree with leaves = 2 and max_depth = 1\n",
      "[47]\tvalid_0's rmse: 2146.92\n",
      "[LightGBM] [Debug] Trained a tree with leaves = 2 and max_depth = 1\n",
      "[48]\tvalid_0's rmse: 2127.5\n",
      "[LightGBM] [Debug] Trained a tree with leaves = 2 and max_depth = 1\n",
      "[49]\tvalid_0's rmse: 2108.62\n",
      "[LightGBM] [Debug] Trained a tree with leaves = 2 and max_depth = 1\n",
      "[50]\tvalid_0's rmse: 2090.06\n",
      "[LightGBM] [Debug] Trained a tree with leaves = 2 and max_depth = 1\n",
      "[51]\tvalid_0's rmse: 2072.41\n",
      "[LightGBM] [Debug] Trained a tree with leaves = 2 and max_depth = 1\n",
      "[52]\tvalid_0's rmse: 2054.63\n",
      "[LightGBM] [Debug] Trained a tree with leaves = 2 and max_depth = 1\n",
      "[53]\tvalid_0's rmse: 2037.71\n",
      "[LightGBM] [Debug] Trained a tree with leaves = 2 and max_depth = 1\n",
      "[54]\tvalid_0's rmse: 2021.01\n",
      "[LightGBM] [Debug] Trained a tree with leaves = 2 and max_depth = 1\n",
      "[55]\tvalid_0's rmse: 2005.02\n",
      "[LightGBM] [Debug] Trained a tree with leaves = 2 and max_depth = 1\n",
      "[56]\tvalid_0's rmse: 1989.24\n",
      "[LightGBM] [Debug] Trained a tree with leaves = 2 and max_depth = 1\n",
      "[57]\tvalid_0's rmse: 1973.57\n",
      "[LightGBM] [Debug] Trained a tree with leaves = 2 and max_depth = 1\n",
      "[58]\tvalid_0's rmse: 1958.78\n",
      "[LightGBM] [Debug] Trained a tree with leaves = 2 and max_depth = 1\n",
      "[59]\tvalid_0's rmse: 1944.15\n",
      "[LightGBM] [Debug] Trained a tree with leaves = 2 and max_depth = 1\n",
      "[60]\tvalid_0's rmse: 1930.22\n",
      "[LightGBM] [Debug] Trained a tree with leaves = 2 and max_depth = 1\n",
      "[61]\tvalid_0's rmse: 1916.28\n",
      "[LightGBM] [Debug] Trained a tree with leaves = 2 and max_depth = 1\n",
      "[62]\tvalid_0's rmse: 1902.53\n",
      "[LightGBM] [Debug] Trained a tree with leaves = 2 and max_depth = 1\n",
      "[63]\tvalid_0's rmse: 1889.5\n",
      "[LightGBM] [Debug] Trained a tree with leaves = 2 and max_depth = 1\n",
      "[64]\tvalid_0's rmse: 1876.72\n",
      "[LightGBM] [Debug] Trained a tree with leaves = 2 and max_depth = 1\n",
      "[65]\tvalid_0's rmse: 1864.23\n",
      "[LightGBM] [Debug] Trained a tree with leaves = 2 and max_depth = 1\n",
      "[66]\tvalid_0's rmse: 1852.25\n",
      "[LightGBM] [Debug] Trained a tree with leaves = 2 and max_depth = 1\n",
      "[67]\tvalid_0's rmse: 1840.4\n",
      "[LightGBM] [Debug] Trained a tree with leaves = 2 and max_depth = 1\n",
      "[68]\tvalid_0's rmse: 1828.7\n",
      "[LightGBM] [Debug] Trained a tree with leaves = 2 and max_depth = 1\n",
      "[69]\tvalid_0's rmse: 1817.61\n",
      "[LightGBM] [Debug] Trained a tree with leaves = 2 and max_depth = 1\n",
      "[70]\tvalid_0's rmse: 1806.77\n",
      "[LightGBM] [Debug] Trained a tree with leaves = 2 and max_depth = 1\n",
      "[71]\tvalid_0's rmse: 1795.94\n",
      "[LightGBM] [Debug] Trained a tree with leaves = 2 and max_depth = 1\n",
      "[72]\tvalid_0's rmse: 1785.77\n",
      "[LightGBM] [Debug] Trained a tree with leaves = 2 and max_depth = 1\n",
      "[73]\tvalid_0's rmse: 1775.75\n",
      "[LightGBM] [Debug] Trained a tree with leaves = 2 and max_depth = 1\n",
      "[74]\tvalid_0's rmse: 1765.81\n",
      "[LightGBM] [Debug] Trained a tree with leaves = 2 and max_depth = 1\n",
      "[75]\tvalid_0's rmse: 1756.39\n",
      "[LightGBM] [Debug] Trained a tree with leaves = 2 and max_depth = 1\n",
      "[76]\tvalid_0's rmse: 1747.17\n",
      "[LightGBM] [Debug] Trained a tree with leaves = 2 and max_depth = 1\n",
      "[77]\tvalid_0's rmse: 1738.27\n",
      "[LightGBM] [Debug] Trained a tree with leaves = 2 and max_depth = 1\n",
      "[78]\tvalid_0's rmse: 1729.47\n",
      "[LightGBM] [Debug] Trained a tree with leaves = 2 and max_depth = 1\n",
      "[79]\tvalid_0's rmse: 1720.82\n",
      "[LightGBM] [Debug] Trained a tree with leaves = 2 and max_depth = 1\n",
      "[80]\tvalid_0's rmse: 1712.61\n",
      "[LightGBM] [Debug] Trained a tree with leaves = 2 and max_depth = 1\n",
      "[81]\tvalid_0's rmse: 1704.56\n",
      "[LightGBM] [Debug] Trained a tree with leaves = 2 and max_depth = 1\n",
      "[82]\tvalid_0's rmse: 1696.44\n",
      "[LightGBM] [Debug] Trained a tree with leaves = 2 and max_depth = 1\n",
      "[83]\tvalid_0's rmse: 1688.35\n",
      "[LightGBM] [Debug] Trained a tree with leaves = 2 and max_depth = 1\n",
      "[84]\tvalid_0's rmse: 1681.01\n",
      "[LightGBM] [Debug] Trained a tree with leaves = 2 and max_depth = 1\n",
      "[85]\tvalid_0's rmse: 1673.64\n",
      "[LightGBM] [Debug] Trained a tree with leaves = 2 and max_depth = 1\n",
      "[86]\tvalid_0's rmse: 1666.74\n",
      "[LightGBM] [Debug] Trained a tree with leaves = 2 and max_depth = 1\n",
      "[87]\tvalid_0's rmse: 1659.79\n",
      "[LightGBM] [Debug] Trained a tree with leaves = 2 and max_depth = 1\n",
      "[88]\tvalid_0's rmse: 1652.94\n",
      "[LightGBM] [Debug] Trained a tree with leaves = 2 and max_depth = 1\n",
      "[89]\tvalid_0's rmse: 1646.38\n",
      "[LightGBM] [Debug] Trained a tree with leaves = 2 and max_depth = 1\n",
      "[90]\tvalid_0's rmse: 1640.18\n",
      "[LightGBM] [Debug] Trained a tree with leaves = 2 and max_depth = 1\n",
      "[91]\tvalid_0's rmse: 1633.82\n",
      "[LightGBM] [Debug] Trained a tree with leaves = 2 and max_depth = 1\n",
      "[92]\tvalid_0's rmse: 1627.82\n",
      "[LightGBM] [Debug] Trained a tree with leaves = 2 and max_depth = 1\n",
      "[93]\tvalid_0's rmse: 1621.99\n",
      "[LightGBM] [Debug] Trained a tree with leaves = 2 and max_depth = 1\n",
      "[94]\tvalid_0's rmse: 1616.08\n",
      "[LightGBM] [Debug] Trained a tree with leaves = 2 and max_depth = 1\n",
      "[95]\tvalid_0's rmse: 1610.53\n",
      "[LightGBM] [Debug] Trained a tree with leaves = 2 and max_depth = 1\n",
      "[96]\tvalid_0's rmse: 1605.25\n",
      "[LightGBM] [Debug] Trained a tree with leaves = 2 and max_depth = 1\n",
      "[97]\tvalid_0's rmse: 1599.87\n",
      "[LightGBM] [Debug] Trained a tree with leaves = 2 and max_depth = 1\n",
      "[98]\tvalid_0's rmse: 1594.96\n",
      "[LightGBM] [Debug] Trained a tree with leaves = 2 and max_depth = 1\n",
      "[99]\tvalid_0's rmse: 1589.95\n",
      "[LightGBM] [Debug] Trained a tree with leaves = 2 and max_depth = 1\n",
      "[100]\tvalid_0's rmse: 1584.7\n",
      "[LightGBM] [Debug] Trained a tree with leaves = 2 and max_depth = 1\n",
      "[101]\tvalid_0's rmse: 1580.19\n",
      "[LightGBM] [Debug] Trained a tree with leaves = 2 and max_depth = 1\n",
      "[102]\tvalid_0's rmse: 1575.59\n",
      "[LightGBM] [Debug] Trained a tree with leaves = 2 and max_depth = 1\n",
      "[103]\tvalid_0's rmse: 1571.03\n",
      "[LightGBM] [Debug] Trained a tree with leaves = 2 and max_depth = 1\n",
      "[104]\tvalid_0's rmse: 1566.72\n",
      "[LightGBM] [Debug] Trained a tree with leaves = 2 and max_depth = 1\n",
      "[105]\tvalid_0's rmse: 1562.74\n",
      "[LightGBM] [Debug] Trained a tree with leaves = 2 and max_depth = 1\n",
      "[106]\tvalid_0's rmse: 1558.41\n",
      "[LightGBM] [Debug] Trained a tree with leaves = 2 and max_depth = 1\n",
      "[107]\tvalid_0's rmse: 1554.41\n",
      "[LightGBM] [Debug] Trained a tree with leaves = 2 and max_depth = 1\n",
      "[108]\tvalid_0's rmse: 1550.7\n",
      "[LightGBM] [Debug] Trained a tree with leaves = 2 and max_depth = 1\n",
      "[109]\tvalid_0's rmse: 1546.95\n",
      "[LightGBM] [Debug] Trained a tree with leaves = 2 and max_depth = 1\n",
      "[110]\tvalid_0's rmse: 1543.08\n",
      "[LightGBM] [Debug] Trained a tree with leaves = 2 and max_depth = 1\n",
      "[111]\tvalid_0's rmse: 1539.76\n",
      "[LightGBM] [Debug] Trained a tree with leaves = 2 and max_depth = 1\n",
      "[112]\tvalid_0's rmse: 1536.15\n",
      "[LightGBM] [Debug] Trained a tree with leaves = 2 and max_depth = 1\n",
      "[113]\tvalid_0's rmse: 1532.8\n",
      "[LightGBM] [Debug] Trained a tree with leaves = 2 and max_depth = 1\n",
      "[114]\tvalid_0's rmse: 1529.74\n",
      "[LightGBM] [Debug] Trained a tree with leaves = 2 and max_depth = 1\n",
      "[115]\tvalid_0's rmse: 1526.68\n",
      "Did not meet early stopping. Best iteration is:\n",
      "[115]\tvalid_0's rmse: 1526.68\n"
     ]
    },
    {
     "name": "stderr",
     "output_type": "stream",
     "text": [
      "/Users/diegofernandezdelahoz/miniconda3/envs/ML_env/lib/python3.8/site-packages/lightgbm/engine.py:156: UserWarning: Found `early_stopping_round` in params. Will use it instead of argument\n",
      "  warnings.warn(\"Found `{}` in params. Will use it instead of argument\".format(alias))\n"
     ]
    }
   ],
   "source": [
    "gbm = lgb.train(params,\n",
    "                d_train,\n",
    "                n_estimators,\n",
    "                watchlist,\n",
    "                verbose_eval=1)"
   ]
  },
  {
   "cell_type": "code",
   "execution_count": 132,
   "metadata": {},
   "outputs": [],
   "source": [
    "X_test = scaler.transform(diamonds_predict.drop(['id', 'depth', 'table', 'x', 'y', 'z', 'carat'], axis=1).values)"
   ]
  },
  {
   "cell_type": "code",
   "execution_count": 133,
   "metadata": {},
   "outputs": [],
   "source": [
    "preds = grid_search.predict(X_test)"
   ]
  },
  {
   "cell_type": "code",
   "execution_count": 134,
   "metadata": {},
   "outputs": [
    {
     "data": {
      "text/plain": [
       "-525.5770279426351"
      ]
     },
     "execution_count": 134,
     "metadata": {},
     "output_type": "execute_result"
    }
   ],
   "source": [
    "grid_search.best_score_"
   ]
  },
  {
   "cell_type": "code",
   "execution_count": 135,
   "metadata": {},
   "outputs": [
    {
     "name": "stdout",
     "output_type": "stream",
     "text": [
      "[LightGBM] [Debug] Dataset::GetMultiBinFromAllFeatures: sparse rate 0.000000\n",
      "[LightGBM] [Debug] init for col-wise cost 0.000039 seconds, init for row-wise cost 0.001013 seconds\n",
      "[LightGBM] [Debug] col-wise cost 0.000111 seconds, row-wise cost 0.000138 seconds\n",
      "[LightGBM] [Warning] Auto-choosing col-wise multi-threading, the overhead of testing was 0.001261 seconds.\n",
      "You can set `force_col_wise=true` to remove the overhead.\n",
      "[LightGBM] [Info] Total Bins 479\n",
      "[LightGBM] [Info] Number of data points in the train set: 8090, number of used features: 6\n",
      "[LightGBM] [Info] Start training from score 3995.793201\n",
      "[LightGBM] [Debug] Trained a tree with leaves = 2 and max_depth = 1\n",
      "[1]\ttraining's rmse: 3890.64\n",
      "Training until validation scores don't improve for 20 rounds\n",
      "[LightGBM] [Debug] Trained a tree with leaves = 2 and max_depth = 1\n",
      "[2]\ttraining's rmse: 3705.32\n",
      "[LightGBM] [Debug] Trained a tree with leaves = 2 and max_depth = 1\n",
      "[3]\ttraining's rmse: 3536.11\n",
      "[LightGBM] [Debug] Trained a tree with leaves = 2 and max_depth = 1\n",
      "[4]\ttraining's rmse: 3379.89\n",
      "[LightGBM] [Debug] Trained a tree with leaves = 2 and max_depth = 1\n",
      "[5]\ttraining's rmse: 3234.27\n",
      "[LightGBM] [Debug] Trained a tree with leaves = 2 and max_depth = 1\n",
      "[6]\ttraining's rmse: 3101.04\n",
      "[LightGBM] [Debug] Trained a tree with leaves = 2 and max_depth = 1\n",
      "[7]\ttraining's rmse: 2976.65\n",
      "[LightGBM] [Debug] Trained a tree with leaves = 2 and max_depth = 1\n",
      "[8]\ttraining's rmse: 2861.99\n",
      "[LightGBM] [Debug] Trained a tree with leaves = 2 and max_depth = 1\n",
      "[9]\ttraining's rmse: 2757.01\n",
      "[LightGBM] [Debug] Trained a tree with leaves = 2 and max_depth = 1\n",
      "[10]\ttraining's rmse: 2658.42\n",
      "[LightGBM] [Debug] Trained a tree with leaves = 2 and max_depth = 1\n",
      "[11]\ttraining's rmse: 2569.79\n",
      "[LightGBM] [Debug] Trained a tree with leaves = 2 and max_depth = 1\n",
      "[12]\ttraining's rmse: 2486.75\n",
      "[LightGBM] [Debug] Trained a tree with leaves = 2 and max_depth = 1\n",
      "[13]\ttraining's rmse: 2412.02\n",
      "[LightGBM] [Debug] Trained a tree with leaves = 2 and max_depth = 1\n",
      "[14]\ttraining's rmse: 2342.88\n",
      "[LightGBM] [Debug] Trained a tree with leaves = 2 and max_depth = 1\n",
      "[15]\ttraining's rmse: 2278.48\n",
      "[LightGBM] [Debug] Trained a tree with leaves = 2 and max_depth = 1\n",
      "[16]\ttraining's rmse: 2214.94\n",
      "[LightGBM] [Debug] Trained a tree with leaves = 2 and max_depth = 1\n",
      "[17]\ttraining's rmse: 2159\n",
      "[LightGBM] [Debug] Trained a tree with leaves = 2 and max_depth = 1\n",
      "[18]\ttraining's rmse: 2105.07\n",
      "[LightGBM] [Debug] Trained a tree with leaves = 2 and max_depth = 1\n",
      "[19]\ttraining's rmse: 2055.59\n",
      "[LightGBM] [Debug] Trained a tree with leaves = 2 and max_depth = 1\n",
      "[20]\ttraining's rmse: 2009.07\n",
      "[LightGBM] [Debug] Trained a tree with leaves = 2 and max_depth = 1\n",
      "[21]\ttraining's rmse: 1966.64\n",
      "[LightGBM] [Debug] Trained a tree with leaves = 2 and max_depth = 1\n",
      "[22]\ttraining's rmse: 1926.85\n",
      "[LightGBM] [Debug] Trained a tree with leaves = 2 and max_depth = 1\n",
      "[23]\ttraining's rmse: 1890.3\n",
      "[LightGBM] [Debug] Trained a tree with leaves = 2 and max_depth = 1\n",
      "[24]\ttraining's rmse: 1856.54\n",
      "[LightGBM] [Debug] Trained a tree with leaves = 2 and max_depth = 1\n",
      "[25]\ttraining's rmse: 1823.34\n",
      "[LightGBM] [Debug] Trained a tree with leaves = 2 and max_depth = 1\n",
      "[26]\ttraining's rmse: 1794.49\n",
      "[LightGBM] [Debug] Trained a tree with leaves = 2 and max_depth = 1\n",
      "[27]\ttraining's rmse: 1767.1\n",
      "[LightGBM] [Debug] Trained a tree with leaves = 2 and max_depth = 1\n",
      "[28]\ttraining's rmse: 1741.12\n",
      "[LightGBM] [Debug] Trained a tree with leaves = 2 and max_depth = 1\n",
      "[29]\ttraining's rmse: 1717.66\n",
      "[LightGBM] [Debug] Trained a tree with leaves = 2 and max_depth = 1\n",
      "[30]\ttraining's rmse: 1695.72\n",
      "[LightGBM] [Debug] Trained a tree with leaves = 2 and max_depth = 1\n",
      "[31]\ttraining's rmse: 1675.3\n",
      "[LightGBM] [Debug] Trained a tree with leaves = 2 and max_depth = 1\n",
      "[32]\ttraining's rmse: 1656.23\n",
      "[LightGBM] [Debug] Trained a tree with leaves = 2 and max_depth = 1\n",
      "[33]\ttraining's rmse: 1638.7\n",
      "[LightGBM] [Debug] Trained a tree with leaves = 2 and max_depth = 1\n",
      "[34]\ttraining's rmse: 1622.5\n",
      "[LightGBM] [Debug] Trained a tree with leaves = 2 and max_depth = 1\n",
      "[35]\ttraining's rmse: 1607.1\n",
      "[LightGBM] [Debug] Trained a tree with leaves = 2 and max_depth = 1\n",
      "[36]\ttraining's rmse: 1593.47\n",
      "[LightGBM] [Debug] Trained a tree with leaves = 2 and max_depth = 1\n",
      "[37]\ttraining's rmse: 1580.41\n",
      "[LightGBM] [Debug] Trained a tree with leaves = 2 and max_depth = 1\n",
      "[38]\ttraining's rmse: 1568.61\n",
      "[LightGBM] [Debug] Trained a tree with leaves = 2 and max_depth = 1\n",
      "[39]\ttraining's rmse: 1557.39\n",
      "[LightGBM] [Debug] Trained a tree with leaves = 2 and max_depth = 1\n",
      "[40]\ttraining's rmse: 1547.28\n",
      "[LightGBM] [Debug] Trained a tree with leaves = 2 and max_depth = 1\n",
      "[41]\ttraining's rmse: 1537.77\n",
      "[LightGBM] [Debug] Trained a tree with leaves = 2 and max_depth = 1\n",
      "[42]\ttraining's rmse: 1529.1\n",
      "[LightGBM] [Debug] Trained a tree with leaves = 2 and max_depth = 1\n",
      "[43]\ttraining's rmse: 1521.09\n",
      "[LightGBM] [Debug] Trained a tree with leaves = 2 and max_depth = 1\n",
      "[44]\ttraining's rmse: 1513.42\n",
      "[LightGBM] [Debug] Trained a tree with leaves = 2 and max_depth = 1\n",
      "[45]\ttraining's rmse: 1505.61\n",
      "[LightGBM] [Debug] Trained a tree with leaves = 2 and max_depth = 1\n",
      "[46]\ttraining's rmse: 1498.56\n",
      "[LightGBM] [Debug] Trained a tree with leaves = 2 and max_depth = 1\n",
      "[47]\ttraining's rmse: 1491.49\n",
      "[LightGBM] [Debug] Trained a tree with leaves = 2 and max_depth = 1\n",
      "[48]\ttraining's rmse: 1484.58\n",
      "[LightGBM] [Debug] Trained a tree with leaves = 2 and max_depth = 1\n",
      "[49]\ttraining's rmse: 1478.23\n",
      "[LightGBM] [Debug] Trained a tree with leaves = 2 and max_depth = 1\n",
      "[50]\ttraining's rmse: 1471.8\n",
      "[LightGBM] [Debug] Trained a tree with leaves = 2 and max_depth = 1\n",
      "[51]\ttraining's rmse: 1465.63\n",
      "[LightGBM] [Debug] Trained a tree with leaves = 2 and max_depth = 1\n",
      "[52]\ttraining's rmse: 1459.38\n",
      "[LightGBM] [Debug] Trained a tree with leaves = 2 and max_depth = 1\n",
      "[53]\ttraining's rmse: 1453.49\n",
      "[LightGBM] [Debug] Trained a tree with leaves = 2 and max_depth = 1\n",
      "[54]\ttraining's rmse: 1447.69\n",
      "[LightGBM] [Debug] Trained a tree with leaves = 2 and max_depth = 1\n",
      "[55]\ttraining's rmse: 1442.07\n",
      "[LightGBM] [Debug] Trained a tree with leaves = 2 and max_depth = 1\n",
      "[56]\ttraining's rmse: 1436.37\n",
      "[LightGBM] [Debug] Trained a tree with leaves = 2 and max_depth = 1\n",
      "[57]\ttraining's rmse: 1431.05\n",
      "[LightGBM] [Debug] Trained a tree with leaves = 2 and max_depth = 1\n",
      "[58]\ttraining's rmse: 1425.49\n",
      "[LightGBM] [Debug] Trained a tree with leaves = 2 and max_depth = 1\n",
      "[59]\ttraining's rmse: 1420.23\n",
      "[LightGBM] [Debug] Trained a tree with leaves = 2 and max_depth = 1\n",
      "[60]\ttraining's rmse: 1415.13\n",
      "[LightGBM] [Debug] Trained a tree with leaves = 2 and max_depth = 1\n",
      "[61]\ttraining's rmse: 1410.09\n",
      "[LightGBM] [Debug] Trained a tree with leaves = 2 and max_depth = 1\n",
      "[62]\ttraining's rmse: 1405.11\n",
      "[LightGBM] [Debug] Trained a tree with leaves = 2 and max_depth = 1\n",
      "[63]\ttraining's rmse: 1400.09\n",
      "[LightGBM] [Debug] Trained a tree with leaves = 2 and max_depth = 1\n",
      "[64]\ttraining's rmse: 1395.32\n",
      "[LightGBM] [Debug] Trained a tree with leaves = 2 and max_depth = 1\n",
      "[65]\ttraining's rmse: 1390.44\n",
      "[LightGBM] [Debug] Trained a tree with leaves = 2 and max_depth = 1\n",
      "[66]\ttraining's rmse: 1385.74\n",
      "[LightGBM] [Debug] Trained a tree with leaves = 2 and max_depth = 1\n",
      "[67]\ttraining's rmse: 1381.11\n",
      "[LightGBM] [Debug] Trained a tree with leaves = 2 and max_depth = 1\n",
      "[68]\ttraining's rmse: 1376.51\n",
      "[LightGBM] [Debug] Trained a tree with leaves = 2 and max_depth = 1\n",
      "[69]\ttraining's rmse: 1372.1\n",
      "[LightGBM] [Debug] Trained a tree with leaves = 2 and max_depth = 1\n",
      "[70]\ttraining's rmse: 1367.78\n",
      "[LightGBM] [Debug] Trained a tree with leaves = 2 and max_depth = 1\n",
      "[71]\ttraining's rmse: 1363.55\n",
      "[LightGBM] [Debug] Trained a tree with leaves = 2 and max_depth = 1\n",
      "[72]\ttraining's rmse: 1359.25\n",
      "[LightGBM] [Debug] Trained a tree with leaves = 2 and max_depth = 1\n",
      "[73]\ttraining's rmse: 1354.97\n",
      "[LightGBM] [Debug] Trained a tree with leaves = 2 and max_depth = 1\n",
      "[74]\ttraining's rmse: 1350.95\n",
      "[LightGBM] [Debug] Trained a tree with leaves = 2 and max_depth = 1\n",
      "[75]\ttraining's rmse: 1346.8\n",
      "[LightGBM] [Debug] Trained a tree with leaves = 2 and max_depth = 1\n",
      "[76]\ttraining's rmse: 1342.78\n",
      "[LightGBM] [Debug] Trained a tree with leaves = 2 and max_depth = 1\n",
      "[77]\ttraining's rmse: 1338.65\n",
      "[LightGBM] [Debug] Trained a tree with leaves = 2 and max_depth = 1\n",
      "[78]\ttraining's rmse: 1334.95\n",
      "[LightGBM] [Debug] Trained a tree with leaves = 2 and max_depth = 1\n",
      "[79]\ttraining's rmse: 1331.13\n",
      "[LightGBM] [Debug] Trained a tree with leaves = 2 and max_depth = 1\n",
      "[80]\ttraining's rmse: 1327.32\n",
      "[LightGBM] [Debug] Trained a tree with leaves = 2 and max_depth = 1\n",
      "[81]\ttraining's rmse: 1323.68\n",
      "[LightGBM] [Debug] Trained a tree with leaves = 2 and max_depth = 1\n",
      "[82]\ttraining's rmse: 1320\n",
      "[LightGBM] [Debug] Trained a tree with leaves = 2 and max_depth = 1\n",
      "[83]\ttraining's rmse: 1316.49\n",
      "[LightGBM] [Debug] Trained a tree with leaves = 2 and max_depth = 1\n",
      "[84]\ttraining's rmse: 1312.86\n",
      "[LightGBM] [Debug] Trained a tree with leaves = 2 and max_depth = 1\n",
      "[85]\ttraining's rmse: 1309.32\n",
      "[LightGBM] [Debug] Trained a tree with leaves = 2 and max_depth = 1\n",
      "[86]\ttraining's rmse: 1305.99\n",
      "[LightGBM] [Debug] Trained a tree with leaves = 2 and max_depth = 1\n",
      "[87]\ttraining's rmse: 1302.59\n",
      "[LightGBM] [Debug] Trained a tree with leaves = 2 and max_depth = 1\n",
      "[88]\ttraining's rmse: 1299.37\n",
      "[LightGBM] [Debug] Trained a tree with leaves = 2 and max_depth = 1\n",
      "[89]\ttraining's rmse: 1296.06\n",
      "[LightGBM] [Debug] Trained a tree with leaves = 2 and max_depth = 1\n",
      "[90]\ttraining's rmse: 1292.92\n",
      "[LightGBM] [Debug] Trained a tree with leaves = 2 and max_depth = 1\n",
      "[91]\ttraining's rmse: 1289.76\n",
      "[LightGBM] [Debug] Trained a tree with leaves = 2 and max_depth = 1\n",
      "[92]\ttraining's rmse: 1286.65\n",
      "[LightGBM] [Debug] Trained a tree with leaves = 2 and max_depth = 1\n",
      "[93]\ttraining's rmse: 1283.58\n",
      "[LightGBM] [Debug] Trained a tree with leaves = 2 and max_depth = 1\n",
      "[94]\ttraining's rmse: 1280.5\n",
      "[LightGBM] [Debug] Trained a tree with leaves = 2 and max_depth = 1\n",
      "[95]\ttraining's rmse: 1277.63\n",
      "[LightGBM] [Debug] Trained a tree with leaves = 2 and max_depth = 1\n",
      "[96]\ttraining's rmse: 1274.74\n",
      "[LightGBM] [Debug] Trained a tree with leaves = 2 and max_depth = 1\n",
      "[97]\ttraining's rmse: 1271.83\n",
      "[LightGBM] [Debug] Trained a tree with leaves = 2 and max_depth = 1\n",
      "[98]\ttraining's rmse: 1268.99\n",
      "[LightGBM] [Debug] Trained a tree with leaves = 2 and max_depth = 1\n",
      "[99]\ttraining's rmse: 1266.18\n",
      "[LightGBM] [Debug] Trained a tree with leaves = 2 and max_depth = 1\n",
      "[100]\ttraining's rmse: 1263.4\n",
      "[LightGBM] [Debug] Trained a tree with leaves = 2 and max_depth = 1\n",
      "[101]\ttraining's rmse: 1260.63\n",
      "[LightGBM] [Debug] Trained a tree with leaves = 2 and max_depth = 1\n",
      "[102]\ttraining's rmse: 1258.03\n",
      "[LightGBM] [Debug] Trained a tree with leaves = 2 and max_depth = 1\n",
      "[103]\ttraining's rmse: 1255.43\n",
      "[LightGBM] [Debug] Trained a tree with leaves = 2 and max_depth = 1\n",
      "[104]\ttraining's rmse: 1252.86\n",
      "[LightGBM] [Debug] Trained a tree with leaves = 2 and max_depth = 1\n",
      "[105]\ttraining's rmse: 1250.31\n",
      "[LightGBM] [Debug] Trained a tree with leaves = 2 and max_depth = 1\n",
      "[106]\ttraining's rmse: 1247.75\n",
      "[LightGBM] [Debug] Trained a tree with leaves = 2 and max_depth = 1\n",
      "[107]\ttraining's rmse: 1245.36\n",
      "[LightGBM] [Debug] Trained a tree with leaves = 2 and max_depth = 1\n",
      "[108]\ttraining's rmse: 1242.95\n",
      "[LightGBM] [Debug] Trained a tree with leaves = 2 and max_depth = 1\n",
      "[109]\ttraining's rmse: 1240.53\n",
      "[LightGBM] [Debug] Trained a tree with leaves = 2 and max_depth = 1\n",
      "[110]\ttraining's rmse: 1238.13\n",
      "[LightGBM] [Debug] Trained a tree with leaves = 2 and max_depth = 1\n",
      "[111]\ttraining's rmse: 1235.78\n",
      "[LightGBM] [Debug] Trained a tree with leaves = 2 and max_depth = 1\n",
      "[112]\ttraining's rmse: 1233.55\n",
      "[LightGBM] [Debug] Trained a tree with leaves = 2 and max_depth = 1\n",
      "[113]\ttraining's rmse: 1231.26\n",
      "[LightGBM] [Debug] Trained a tree with leaves = 2 and max_depth = 1\n",
      "[114]\ttraining's rmse: 1229.06\n",
      "[LightGBM] [Debug] Trained a tree with leaves = 2 and max_depth = 1\n",
      "[115]\ttraining's rmse: 1226.92\n",
      "Did not meet early stopping. Best iteration is:\n",
      "[115]\ttraining's rmse: 1226.92\n"
     ]
    },
    {
     "name": "stderr",
     "output_type": "stream",
     "text": [
      "/Users/diegofernandezdelahoz/miniconda3/envs/ML_env/lib/python3.8/site-packages/lightgbm/engine.py:156: UserWarning: Found `early_stopping_round` in params. Will use it instead of argument\n",
      "  warnings.warn(\"Found `{}` in params. Will use it instead of argument\".format(alias))\n"
     ]
    }
   ],
   "source": [
    "gbm_t = lgb.train(params,\n",
    "                d_valid,\n",
    "                n_estimators,\n",
    "                watchlist,\n",
    "                verbose_eval=1)"
   ]
  },
  {
   "cell_type": "code",
   "execution_count": null,
   "metadata": {},
   "outputs": [],
   "source": []
  },
  {
   "cell_type": "code",
   "execution_count": 139,
   "metadata": {},
   "outputs": [
    {
     "data": {
      "text/plain": [
       "-525.5770279426351"
      ]
     },
     "execution_count": 139,
     "metadata": {},
     "output_type": "execute_result"
    }
   ],
   "source": [
    "grid_search.best_score_"
   ]
  },
  {
   "cell_type": "code",
   "execution_count": 140,
   "metadata": {},
   "outputs": [],
   "source": [
    "output = pd.DataFrame({'id': diamonds_predict['id'], 'price': preds})\n",
    "output.to_csv(\"lgbm_plus6.csv\", index=False)"
   ]
  }
 ],
 "metadata": {
  "kernelspec": {
   "display_name": "ML_env",
   "language": "python",
   "name": "ml_env"
  },
  "language_info": {
   "codemirror_mode": {
    "name": "ipython",
    "version": 3
   },
   "file_extension": ".py",
   "mimetype": "text/x-python",
   "name": "python",
   "nbconvert_exporter": "python",
   "pygments_lexer": "ipython3",
   "version": "3.8.5"
  }
 },
 "nbformat": 4,
 "nbformat_minor": 4
}
